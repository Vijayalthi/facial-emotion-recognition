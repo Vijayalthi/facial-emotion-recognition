from tensorflow.keras.preprocessing.image import ImageDataGenerator

# Define image size and batch size
img_size = (224, 224)
batch_size = 32

# Create ImageDataGenerator with data augmentation
datagen = ImageDataGenerator(
    rescale=1./255,
    validation_split=0.2,
    rotation_range=20,
    zoom_range=0.2,
    horizontal_flip=True
)

# Training generator
train_generator = datagen.flow_from_directory(
    "dataset/train",
    target_size=img_size,
    batch_size=batch_size,
    class_mode="categorical",
    subset="training",
    shuffle=True
)

# Validation generator
val_generator = datagen.flow_from_directory(
    "dataset/train",
    target_size=img_size,
    batch_size=batch_size,
    class_mode="categorical",
    subset="validation",
    shuffle=True
)


# Define VGG16 base model
vgg_model = VGG16(weights="imagenet", include_top=False, input_shape=(224, 224, 3))

# Freeze base layers (fine-tune last 4)
for layer in vgg_model.layers[:-4]:
    layer.trainable = False

# Add custom classification layers
x = vgg_model.output
x = GlobalAveragePooling2D()(x)
x = BatchNormalization()(x)
x = Dropout(0.5)(x)
x = Dense(128, activation="relu")(x)
x = Dropout(0.3)(x)
predictions = Dense(train_generator.num_classes, activation="softmax")(x)

# Create the final model
final_model = Model(inputs=vgg_model.input, outputs=predictions)

# Compile
final_model.compile(optimizer="adam", loss="categorical_crossentropy", metrics=["accuracy"])

# Model summary
final_model.summary()


# Callbacks
early_stop = EarlyStopping(monitor="val_loss", patience=5, restore_best_weights=True)
reduce_lr = ReduceLROnPlateau(monitor="val_loss", factor=0.2, patience=3, verbose=1)

# Train the model using generators
history = final_model.fit(
    train_generator,
    validation_data=val_generator,
    epochs=15,
    callbacks=[early_stop, reduce_lr]
)
# Plotting accuracy and loss
plt.figure(figsize=(12, 6))

plt.subplot(1, 2, 1)
plt.plot(history.history["accuracy"], label="Train Accuracy")
plt.plot(history.history["val_accuracy"], label="Val Accuracy")
plt.title("Model Accuracy")
plt.xlabel("Epochs")
plt.ylabel("Accuracy")
plt.legend()

plt.subplot(1, 2, 2)
plt.plot(history.history["loss"], label="Train Loss")
plt.plot(history.history["val_loss"], label="Val Loss")
plt.title("Model Loss")
plt.xlabel("Epochs")
plt.ylabel("Loss")
plt.legend()

plt.tight_layout()
plt.show()

# Evaluate the model using validation generator
val_loss, val_acc = final_model.evaluate(val_generator)
print("Validation Accuracy:", val_acc)

# Save the trained model
final_model.save("emotion_recognition_model.h5")

import numpy as np
import cv2
from tensorflow.keras.models import load_model
from tensorflow.keras.preprocessing.image import img_to_array
import matplotlib.pyplot as plt

model = load_model("emotion_recognition_model.h5")

# Match emotion label order with the training generator
emotion_labels = list(train_generator.class_indices.keys())


