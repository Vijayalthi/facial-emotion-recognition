!pip install tensorflow keras opencv-python matplotlib numpy scikit-learn

import os
import numpy as np
import tensorflow as tf
from tensorflow.keras.models import Model
from tensorflow.keras.layers import LSTM, Dense, Flatten, Dropout, BatchNormalization, TimeDistributed, GlobalAveragePooling2D
from tensorflow.keras.applications import VGG16
from tensorflow.keras.preprocessing.image import ImageDataGenerator
from tensorflow.keras.callbacks import ReduceLROnPlateau, EarlyStopping
from sklearn.metrics import classification_report, confusion_matrix
import matplotlib.pyplot as plt
import seaborn as sns
import cv2
import zipfile

!kaggle datasets download -d msambare/fer2013

import zipfile

# Extracting
zip_file_path = "fer2013.zip" 
extract_to_path = "dataset"

with zipfile.ZipFile(zip_file_path, 'r') as zip_ref:
    zip_ref.extractall(extract_to_path)

img_size = (224, 224)
